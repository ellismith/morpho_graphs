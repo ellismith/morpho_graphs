{
 "cells": [
  {
   "cell_type": "markdown",
   "metadata": {},
   "source": [
    "## Create graphs from neuron morphologies, then train a NN on classification\n",
    "\n",
    "https://docs.dgl.ai/en/0.6.x/guide/training-graph.html"
   ]
  },
  {
   "cell_type": "code",
   "execution_count": 1,
   "metadata": {},
   "outputs": [
    {
     "name": "stderr",
     "output_type": "stream",
     "text": [
      "Using backend: pytorch\n"
     ]
    }
   ],
   "source": [
    "import dgl\n",
    "from dgl.data import DGLDataset\n",
    "from dgl.dataloading import GraphDataLoader\n",
    "from dgl.data.utils import download, check_sha1\n",
    "import dgl.nn.pytorch as dglnn\n",
    "from dgl.nn.pytorch import GraphConv\n",
    "import itertools\n",
    "import matplotlib.pyplot as plt\n",
    "import networkx as nx\n",
    "import numpy as np\n",
    "from pathlib import Path\n",
    "import pandas as pd\n",
    "import random\n",
    "from sklearn.decomposition import PCA\n",
    "import statistics\n",
    "import torch\n",
    "import torch.nn as nn\n",
    "import torch.nn.functional as F\n",
    "from torch.utils.data.sampler import SubsetRandomSampler\n",
    "from tqdm.auto import tqdm, trange\n",
    "\n",
    "import os\n",
    "from dgl.data.utils import download\n",
    "\n",
    "from dgl import save_graphs, load_graphs\n",
    "from dgl.data.utils import makedirs, save_info, load_info\n",
    "\n",
    "\n",
    "import webscrape2 as ws"
   ]
  },
  {
   "cell_type": "code",
   "execution_count": 2,
   "metadata": {},
   "outputs": [],
   "source": [
    "def get_morphology(file_name: str):\n",
    "    with open(file_name, \"rb\") as f: #rb = read only, binary\n",
    "        data = f.read().decode(\"utf-8\")  #utf is a unicode standard\n",
    "\n",
    "    data = data.split(\"\\r\\n\") #rn is the \"token\"\n",
    "\n",
    "    # making each item a list\n",
    "    # split on the space\n",
    "    # also removing all the comments at the beginning, the len line thing is to account for blank lines\n",
    "    # the .strip is to get rid of blank spaces\n",
    "    data_list = [line.strip().split(\" \") for line in data if len(line)>0 and line[0]!='#']\n",
    "\n",
    "    df = pd.DataFrame(data_list, columns=[\"sample\", \"structure\", \"x\", \"y\", \"z\", \"diameter\", \"parent\"])\n",
    "    df = df.set_index(\"sample\").iloc[:-1] #index up until the last, omit last line cuz it's blank\n",
    "    df = df.astype({\"structure\":int, \"x\":float, \"y\":float, \"z\":float, \"diameter\":float, \"parent\":int})\n",
    "    df.index = df.index.astype(int) #1, 2, 3 not \"1\" etc\n",
    "\n",
    "    #making this 2D not 3D\n",
    "    pca = PCA(2)\n",
    "    pca.fit_transform(df[[\"x\", \"y\"]]) #2 brackets cuz inner makes the list, outer accesses the columns\n",
    "\n",
    "    df[[\"PC1\", \"PC2\"]] = pca.fit_transform(df[[\"x\", \"y\"]])\n",
    "    \n",
    "    #now we know the very original parent for each sample (each sample is a circle)\n",
    "    def funct(s): #s is the series\n",
    "        parent = max(1, s[\"parent\"]) #give us values unless it's less than 1\n",
    "        return df.loc[parent]\n",
    "    \n",
    "    # now we have vectors between the samples, the x, y, x vals\n",
    "    delta = df - df.apply(funct, axis=1)\n",
    "\n",
    "    #writing this new length column into the original df\n",
    "    df[\"length\"] = np.sqrt(delta[\"PC1\"]**2 + delta[\"PC2\"]**2)\n",
    "    df[\"theta\"] = np.arctan(delta[\"PC1\"]/delta[\"PC2\"])\n",
    "\n",
    "    # replacing the -1 parent value for the first sample with 0\n",
    "    df[df < 0] = 0\n",
    "    \n",
    "    return df"
   ]
  },
  {
   "cell_type": "code",
   "execution_count": 3,
   "metadata": {},
   "outputs": [],
   "source": [
    "def make_graph(df: pd.DataFrame):\n",
    "    # source node array u and destination node array v\n",
    "    u = np.array(df[\"parent\"][1:]-1) #leave out the first row, make 1 index into 0\n",
    "    v = np.array(df.index[1:]-1)\n",
    "\n",
    "    g = dgl.graph((u, v))\n",
    "    \n",
    "    df = df.fillna(0)\n",
    "\n",
    "    # making tensors of the vector lengths and angles\n",
    "    #lengths = torch.Tensor(df[\"length\"].tolist())\n",
    "    #thetas = torch.Tensor(df[\"theta\"].fillna(0).tolist()) # also making the first theta 0\n",
    "\n",
    "    # assigning the length and angle features to the edges\n",
    "    #g.ndata['lengths'] = lengths\n",
    "    #g.ndata['thetas'] = thetas\n",
    "    g.ndata['info'] = torch.Tensor(df[['length', 'theta']].values)\n",
    "    # ^^ can add 3rd dimension with another theta value, maybe diameter\n",
    "    \n",
    "    return g, df[\"structure\"].values - 1  # df[\"structure\"] will be the label (soma, dendrite, etc.)\n",
    "    print(u)"
   ]
  },
  {
   "cell_type": "code",
   "execution_count": 4,
   "metadata": {
    "tags": []
   },
   "outputs": [],
   "source": [
    "class MyDataset(DGLDataset):\n",
    "    \n",
    "    def __init__(self,\n",
    "                 archive='',\n",
    "                 url=None,\n",
    "                 raw_dir=None,\n",
    "                 save_dir=None,\n",
    "                 force_reload=False,\n",
    "                 verbose=False):  \n",
    "        self.archive = archive\n",
    "        self.files = []\n",
    "        main_path = Path('/home/ellismith/swc_to_graph')\n",
    "        if raw_dir is None:\n",
    "            raw_dir = main_path / 'swc_files'\n",
    "        if save_dir is None:\n",
    "            save_dir = main_path / 'swc_graphs'\n",
    "            \n",
    "        super().__init__(name=archive,\n",
    "                                        url=url,\n",
    "                                        raw_dir=raw_dir,\n",
    "                                        save_dir=save_dir,\n",
    "                                        force_reload=force_reload,\n",
    "                                        verbose=verbose)\n",
    "        \n",
    "    label_options = ['granule', 'mitral', 'short axon', 'pyramidal', 'tufted', 'basket']\n",
    "    \n",
    "    def has_cache(self):\n",
    "        # check whether there are processed data in `self.save_path`\n",
    "        pass\n",
    "\n",
    "    def download(self):\n",
    "        # path to store the file\n",
    "        # make sure to use the same suffix as the original file name's\n",
    "        url = self.url\n",
    "        print(\"Downloading from %s\" % self.url)\n",
    "        \n",
    "        result = ws.get_swc(self.archive, self.raw_dir)\n",
    "    \n",
    "    def process(self): \n",
    "        # process data to a list of graphs and a list of labels\n",
    "        \n",
    "        self.files = []\n",
    "        self.raw_labels = []\n",
    "        self.graphs = []\n",
    "        \n",
    "        files = list(self.raw_dir.iterdir())\n",
    "        #files = files[:30]\n",
    "        for file in tqdm(files):\n",
    "            if file.is_file():\n",
    "                self.files.append(file.name)\n",
    "                label = None\n",
    "                for kind in self.label_options:\n",
    "                    if kind in file.name:\n",
    "                        label = kind\n",
    "                assert label, file.name\n",
    "                self.raw_labels.append(label)   \n",
    "\n",
    "                graph = None\n",
    "                df = get_morphology(file)\n",
    "                graph = make_graph(df)\n",
    "                self.graphs.append(graph[0])\n",
    "        \n",
    "        # convert labels from words (cell types) to integer values \n",
    "        label_nums = [self.label_options.index(label) for label in self.raw_labels]\n",
    "        self.labels = torch.tensor(label_nums)\n",
    "        \n",
    "        # top_2 is a list of the top 2 most frequent labels \n",
    "        self.top_2 = pd.Series(self.labels).value_counts().index[:2].to_list()\n",
    "        \n",
    "        # converts labels_list from tensor to list \n",
    "        self.labels_list = self.labels.tolist()\n",
    "        \n",
    "        # create a new list of graphs and tensor of labels from only the top 2 labels\n",
    "        \n",
    "        graphs_and_labels = zip(self.graphs, self.labels_list)\n",
    "        filtered = [(graph, self.top_2.index(label)) for graph, label in graphs_and_labels if label in self.top_2]\n",
    "        self.graphs_filtered, self.labels_filtered = zip(*filtered)\n",
    "        self.labels_filtered = torch.tensor(self.labels_filtered)\n",
    "        \n",
    "        self.graphs_filtered = list(self.graphs_filtered)\n",
    "        \n",
    "    def __getitem__(self, idx): \n",
    "        # __getitem__(idx) should return tuple (graph, label)\n",
    "        return self.graphs_filtered[idx], self.labels_filtered[idx]\n",
    "\n",
    "    def __len__(self):\n",
    "        # number of data examples\n",
    "        return len(self.graphs_filtered)\n",
    "\n",
    "    def save(self):\n",
    "        # save graphs and labels\n",
    "        graph_path = self.save_dir / 'dgl_graph.bin'\n",
    "        save_graphs(str(graph_path), self.graphs_filtered, {'labels': self.labels_filtered})    \n",
    "        \n",
    "    def load(self):\n",
    "        # load processed data from directory `self.save_path`\n",
    "        graph_path = self.save_dir / 'dgl_graph.bin'\n",
    "        self.graphs_filtered, label_dict = load_graphs(str(graph_path))\n",
    "        self.labels_filtered = label_dict['labels']   \n",
    "        \n",
    "    def has_cache(self):\n",
    "        # check whether there are processed data in `self.save_path`\n",
    "        graph_path = self.save_dir / 'dgl_graph.bin'\n",
    "        return graph_path.is_file()\n",
    "        \n",
    "    def del_cache(self):\n",
    "        graph_path = self.save_dir / 'dgl_graph.bin'\n",
    "        if graph_path.is_file():\n",
    "            graph_path.unlink()"
   ]
  },
  {
   "cell_type": "code",
   "execution_count": 7,
   "metadata": {},
   "outputs": [],
   "source": [
    "dataset.del_cache()"
   ]
  },
  {
   "cell_type": "code",
   "execution_count": 8,
   "metadata": {},
   "outputs": [
    {
     "data": {
      "application/vnd.jupyter.widget-view+json": {
       "model_id": "bb027e30400a49c086d6dfe9cfe1364e",
       "version_major": 2,
       "version_minor": 0
      },
      "text/plain": [
       "  0%|          | 0/237 [00:00<?, ?it/s]"
      ]
     },
     "metadata": {},
     "output_type": "display_data"
    }
   ],
   "source": [
    "dataset = MyDataset()"
   ]
  },
  {
   "cell_type": "code",
   "execution_count": 9,
   "metadata": {
    "tags": []
   },
   "outputs": [
    {
     "name": "stdout",
     "output_type": "stream",
     "text": [
      "184\n",
      "yay!\n"
     ]
    }
   ],
   "source": [
    "print(len(dataset.labels_filtered))\n",
    "if len(dataset.labels_filtered) == len(dataset.graphs_filtered):\n",
    "    print(\"yay!\")"
   ]
  },
  {
   "cell_type": "code",
   "execution_count": 10,
   "metadata": {},
   "outputs": [],
   "source": [
    "# create dataloaders\n",
    "dataloader = GraphDataLoader(dataset, batch_size=10, drop_last=False, shuffle=True)"
   ]
  },
  {
   "cell_type": "code",
   "execution_count": 11,
   "metadata": {},
   "outputs": [],
   "source": [
    "# change to one hidden dim, change the size of it\n",
    "\n",
    "class Classifier(nn.Module):\n",
    "    def __init__(self, n_features, hidden_dim, n_classes):\n",
    "        super(Classifier, self).__init__()\n",
    "        self.conv1 = dglnn.GraphConv(n_features, hidden_dim, allow_zero_in_degree=self.allow_zero_in_degree)\n",
    "        self.conv2 = dglnn.GraphConv(hidden_dim, hidden_dim, allow_zero_in_degree=self.allow_zero_in_degree)\n",
    "        self.classify = nn.Linear(hidden_dim, n_classes)\n",
    "        \n",
    "    allow_zero_in_degree=True\n",
    "\n",
    "    def forward(self, g, info):\n",
    "        # Apply graph convolution and activation.\n",
    "        # activation options: F.relu, torch.sigmoid, torch.tanh\n",
    "        info = torch.tanh(self.conv1(g, info))\n",
    "        info = torch.tanh(self.conv2(g, info))\n",
    "        # info = torch.cat(info, something)  if I want to include global/morphometric feature info\n",
    "        with g.local_scope():\n",
    "            g.ndata['info'] = info\n",
    "            # Calculate graph representation by average readout.\n",
    "            hg = dgl.mean_nodes(g, 'info')\n",
    "            return self.classify(hg)"
   ]
  },
  {
   "cell_type": "code",
   "execution_count": 112,
   "metadata": {},
   "outputs": [],
   "source": [
    "#torch.randperm(num_examples)"
   ]
  },
  {
   "cell_type": "code",
   "execution_count": 50,
   "metadata": {
    "collapsed": true,
    "jupyter": {
     "outputs_hidden": true
    },
    "tags": []
   },
   "outputs": [
    {
     "data": {
      "text/plain": [
       "\"\\nmodel = Classifier(2, 5, 5, 6)\\nopt = torch.optim.Adam(model.parameters())\\nfor epoch in range(50):\\n    for batched_graph, labels in dataloader:\\n        feats = batched_graph.ndata['info']\\n        logits = model(batched_graph, feats)\\n        loss = F.cross_entropy(logits, labels)\\n        opt.zero_grad()\\n        loss.backward()\\n        opt.step()\\n\""
      ]
     },
     "execution_count": 50,
     "metadata": {},
     "output_type": "execute_result"
    }
   ],
   "source": [
    "\"\"\"\n",
    "model = Classifier(2, 5, 5, 6)\n",
    "opt = torch.optim.Adam(model.parameters())\n",
    "for epoch in range(50):\n",
    "    for batched_graph, labels in dataloader:\n",
    "        feats = batched_graph.ndata['info']\n",
    "        logits = model(batched_graph, feats)\n",
    "        loss = F.cross_entropy(logits, labels)\n",
    "        opt.zero_grad()\n",
    "        loss.backward()\n",
    "        opt.step()\n",
    "\"\"\""
   ]
  },
  {
   "cell_type": "code",
   "execution_count": 12,
   "metadata": {},
   "outputs": [],
   "source": [
    "torch.manual_seed(0)  #this one is setting the random seed for torch.randperm\n",
    "random.seed(0)\n",
    "np.random.seed(0)\n",
    "# deterministically goes through the same set of random numbers\n",
    "# every time this seed gets re-run, back to the same initial set of random values"
   ]
  },
  {
   "cell_type": "code",
   "execution_count": 13,
   "metadata": {},
   "outputs": [],
   "source": [
    "num_examples = len(dataset)\n",
    "num_train = int(num_examples * 0.8)\n",
    "\n",
    "random_list = torch.randperm(num_examples)  #this is shuffling the values\n",
    "train_sampler = SubsetRandomSampler(random_list[:num_train])\n",
    "test_sampler = SubsetRandomSampler(random_list[num_train:])\n",
    "\n",
    "train_dataloader = GraphDataLoader(dataset, sampler=train_sampler, batch_size=10, drop_last=False)\n",
    "test_dataloader = GraphDataLoader(dataset, sampler=test_sampler, batch_size=10, drop_last=False)\n",
    "\n",
    "# the GraphDataLoader will return two objects for each iteration\n",
    "# first element is batched graph\n",
    "# second element is label vector representing category of each graph in the mini-batch"
   ]
  },
  {
   "cell_type": "code",
   "execution_count": 14,
   "metadata": {},
   "outputs": [
    {
     "data": {
      "text/plain": [
       "tensor([180, 148, 107,  36,  47,  29,  77, 113,   7,  42, 105,  55,  96, 115,\n",
       "         22,  15, 160, 127,  76, 172,  74, 161,  57,  95,  48,  75,  10, 149,\n",
       "        109, 124, 129, 121,  99,  68, 179,  39, 102, 165, 119,  67,   9, 128,\n",
       "        122, 182, 155,  79, 131,  59,  78,  44,  60, 139,  93, 181,  65,  12,\n",
       "         87,  86,  50, 136,  17,  41, 175,  66,  38, 135, 152,  64,  88, 146,\n",
       "         52,  24,  94,  83,  43,  84,  45,  61, 103,  25, 178, 132, 162, 159,\n",
       "        153, 177, 101, 174,  49,  82,  34,   6, 126, 145,  27,  58,  56, 104,\n",
       "         46, 111, 117,  62,  69, 169, 108,  85,  80, 112,  54, 100,  90, 154,\n",
       "          0,  63, 158,  14,  35, 176,  98, 114, 143, 167,  33,  89, 137,   2,\n",
       "         71, 140,  26, 130,  28, 116,  91,  40, 168,   5, 138, 183, 166, 120,\n",
       "        157,  73,  32, 125,  37,  21,  97,   4, 173, 118, 142,  20, 170, 156,\n",
       "        134,   3,  31, 171, 106, 151,   8,  81,  13, 133, 163,  30,  72,  19,\n",
       "         23, 110,  92, 150, 164, 141, 123, 147,  70,  18,   1,  16, 144,  53,\n",
       "         51,  11])"
      ]
     },
     "execution_count": 14,
     "metadata": {},
     "output_type": "execute_result"
    }
   ],
   "source": [
    "random_list"
   ]
  },
  {
   "cell_type": "code",
   "execution_count": 136,
   "metadata": {},
   "outputs": [
    {
     "data": {
      "text/html": [
       "<div>\n",
       "<style scoped>\n",
       "    .dataframe tbody tr th:only-of-type {\n",
       "        vertical-align: middle;\n",
       "    }\n",
       "\n",
       "    .dataframe tbody tr th {\n",
       "        vertical-align: top;\n",
       "    }\n",
       "\n",
       "    .dataframe thead th {\n",
       "        text-align: right;\n",
       "    }\n",
       "</style>\n",
       "<table border=\"1\" class=\"dataframe\">\n",
       "  <thead>\n",
       "    <tr style=\"text-align: right;\">\n",
       "      <th></th>\n",
       "      <th>0</th>\n",
       "      <th>1</th>\n",
       "      <th>2</th>\n",
       "      <th>seed</th>\n",
       "    </tr>\n",
       "  </thead>\n",
       "  <tbody>\n",
       "    <tr>\n",
       "      <th>0</th>\n",
       "      <td>NaN</td>\n",
       "      <td>NaN</td>\n",
       "      <td>NaN</td>\n",
       "      <td>1</td>\n",
       "    </tr>\n",
       "    <tr>\n",
       "      <th>1</th>\n",
       "      <td>NaN</td>\n",
       "      <td>NaN</td>\n",
       "      <td>NaN</td>\n",
       "      <td>2</td>\n",
       "    </tr>\n",
       "    <tr>\n",
       "      <th>2</th>\n",
       "      <td>NaN</td>\n",
       "      <td>NaN</td>\n",
       "      <td>NaN</td>\n",
       "      <td>3</td>\n",
       "    </tr>\n",
       "    <tr>\n",
       "      <th>3</th>\n",
       "      <td>NaN</td>\n",
       "      <td>NaN</td>\n",
       "      <td>NaN</td>\n",
       "      <td>4</td>\n",
       "    </tr>\n",
       "    <tr>\n",
       "      <th>4</th>\n",
       "      <td>NaN</td>\n",
       "      <td>NaN</td>\n",
       "      <td>NaN</td>\n",
       "      <td>5</td>\n",
       "    </tr>\n",
       "  </tbody>\n",
       "</table>\n",
       "</div>"
      ],
      "text/plain": [
       "     0    1    2  seed\n",
       "0  NaN  NaN  NaN     1\n",
       "1  NaN  NaN  NaN     2\n",
       "2  NaN  NaN  NaN     3\n",
       "3  NaN  NaN  NaN     4\n",
       "4  NaN  NaN  NaN     5"
      ]
     },
     "execution_count": 136,
     "metadata": {},
     "output_type": "execute_result"
    }
   ],
   "source": [
    "list = [1, 2, 3, 4, 5]\n",
    "df = pd.DataFrame(columns=range(3))\n",
    "df['seed'] = list\n",
    "df"
   ]
  },
  {
   "cell_type": "code",
   "execution_count": 139,
   "metadata": {},
   "outputs": [
    {
     "ename": "TypeError",
     "evalue": "'list' object is not callable",
     "output_type": "error",
     "traceback": [
      "\u001b[0;31m---------------------------------------------------------------------------\u001b[0m",
      "\u001b[0;31mTypeError\u001b[0m                                 Traceback (most recent call last)",
      "\u001b[0;32m<ipython-input-139-a49636345c26>\u001b[0m in \u001b[0;36m<module>\u001b[0;34m\u001b[0m\n\u001b[0;32m----> 1\u001b[0;31m \u001b[0msize_hidden_dim\u001b[0m \u001b[0;34m=\u001b[0m \u001b[0mlist\u001b[0m\u001b[0;34m(\u001b[0m\u001b[0mrange\u001b[0m\u001b[0;34m(\u001b[0m\u001b[0;36m1\u001b[0m\u001b[0;34m,\u001b[0m \u001b[0;36m10\u001b[0m\u001b[0;34m)\u001b[0m\u001b[0;34m)\u001b[0m\u001b[0;34m\u001b[0m\u001b[0;34m\u001b[0m\u001b[0m\n\u001b[0m",
      "\u001b[0;31mTypeError\u001b[0m: 'list' object is not callable"
     ]
    }
   ],
   "source": [
    "size_hidden_dim = list(range(1, 10))"
   ]
  },
  {
   "cell_type": "code",
   "execution_count": 29,
   "metadata": {
    "tags": []
   },
   "outputs": [
    {
     "name": "stdout",
     "output_type": "stream",
     "text": [
      "hidden layer 1 size: 1 Test accuracy: 0.7297297297297297\n",
      "hidden layer 1 size: 1 Test accuracy: 0.7297297297297297\n",
      "hidden layer 1 size: 1 Test accuracy: 0.6486486486486487\n",
      "hidden layer 1 size: 1 Test accuracy: 0.6486486486486487\n",
      "hidden layer 1 size: 1 Test accuracy: 0.6486486486486487\n",
      "hidden layer 1 size: 2 Test accuracy: 0.7297297297297297\n",
      "hidden layer 1 size: 2 Test accuracy: 0.7297297297297297\n",
      "hidden layer 1 size: 2 Test accuracy: 0.7297297297297297\n",
      "hidden layer 1 size: 2 Test accuracy: 0.7297297297297297\n",
      "hidden layer 1 size: 2 Test accuracy: 0.7297297297297297\n",
      "hidden layer 1 size: 3 Test accuracy: 0.7297297297297297\n",
      "hidden layer 1 size: 3 Test accuracy: 0.7297297297297297\n",
      "hidden layer 1 size: 3 Test accuracy: 0.7297297297297297\n",
      "hidden layer 1 size: 3 Test accuracy: 0.7297297297297297\n",
      "hidden layer 1 size: 3 Test accuracy: 0.7297297297297297\n",
      "hidden layer 1 size: 4 Test accuracy: 0.7297297297297297\n",
      "hidden layer 1 size: 4 Test accuracy: 0.7297297297297297\n",
      "hidden layer 1 size: 4 Test accuracy: 0.7297297297297297\n",
      "hidden layer 1 size: 4 Test accuracy: 0.7567567567567568\n",
      "hidden layer 1 size: 4 Test accuracy: 0.7837837837837838\n",
      "hidden layer 1 size: 5 Test accuracy: 0.7837837837837838\n",
      "hidden layer 1 size: 5 Test accuracy: 0.7297297297297297\n",
      "hidden layer 1 size: 5 Test accuracy: 0.7297297297297297\n",
      "hidden layer 1 size: 5 Test accuracy: 0.7567567567567568\n",
      "hidden layer 1 size: 5 Test accuracy: 0.7837837837837838\n",
      "hidden layer 1 size: 6 Test accuracy: 0.7297297297297297\n",
      "hidden layer 1 size: 6 Test accuracy: 0.7567567567567568\n",
      "hidden layer 1 size: 6 Test accuracy: 0.7297297297297297\n",
      "hidden layer 1 size: 6 Test accuracy: 0.7837837837837838\n",
      "hidden layer 1 size: 6 Test accuracy: 0.7567567567567568\n",
      "hidden layer 1 size: 7 Test accuracy: 0.7297297297297297\n",
      "hidden layer 1 size: 7 Test accuracy: 0.7297297297297297\n",
      "hidden layer 1 size: 7 Test accuracy: 0.7567567567567568\n",
      "hidden layer 1 size: 7 Test accuracy: 0.7837837837837838\n",
      "hidden layer 1 size: 7 Test accuracy: 0.7297297297297297\n",
      "hidden layer 1 size: 8 Test accuracy: 0.7297297297297297\n",
      "hidden layer 1 size: 8 Test accuracy: 0.7297297297297297\n",
      "hidden layer 1 size: 8 Test accuracy: 0.7837837837837838\n",
      "hidden layer 1 size: 8 Test accuracy: 0.7297297297297297\n",
      "hidden layer 1 size: 8 Test accuracy: 0.7297297297297297\n",
      "hidden layer 1 size: 9 Test accuracy: 0.7567567567567568\n",
      "hidden layer 1 size: 9 Test accuracy: 0.7297297297297297\n",
      "hidden layer 1 size: 9 Test accuracy: 0.7567567567567568\n",
      "hidden layer 1 size: 9 Test accuracy: 0.7837837837837838\n",
      "hidden layer 1 size: 9 Test accuracy: 0.7837837837837838\n"
     ]
    }
   ],
   "source": [
    "size_hidden_dim = list(range(1, 10))\n",
    "#accuracy = pd.DataFrame(index=size_hidden_dim)\n",
    "accuracy = pd.DataFrame(index=size_hidden_dim, columns=range(5))\n",
    "test_loss_epoch50 = pd.DataFrame(index=size_hidden_dim, columns=range(5))\n",
    "mean_test_loss = []\n",
    "sd_test_loss = []\n",
    "\n",
    "for i in size_hidden_dim:\n",
    "    # run over 5 different random seeds\n",
    "    for seed in range(5):\n",
    "        torch.manual_seed(seed)\n",
    "        model = Classifier(2, i, 2)\n",
    "        opt = torch.optim.Adam(model.parameters(), lr=0.001)\n",
    "        train_loss_list=[]\n",
    "        test_loss_list = []\n",
    "        for epoch in range(100):\n",
    "            train_loss_list_epoch = []\n",
    "            test_loss_list_epoch = []\n",
    "            for batched_graph, labels in train_dataloader:\n",
    "                feats = batched_graph.ndata['info']\n",
    "                logits = model(batched_graph, feats)  # logits is non-normalized prob value\n",
    "\n",
    "                train_loss = F.cross_entropy(logits, labels)  # cross entropy is a measure of agreement between label and prediction probability\n",
    "                train_loss_list_epoch.append(train_loss.tolist())\n",
    "                opt.zero_grad()\n",
    "                train_loss.backward()\n",
    "                opt.step()\n",
    "            mean_train_loss_epoch = statistics.mean(train_loss_list_epoch)\n",
    "            train_loss_list.append(mean_train_loss_epoch)\n",
    "\n",
    "            for batched_graph, labels in test_dataloader:\n",
    "                feats = batched_graph.ndata['info']\n",
    "                logits = model(batched_graph, feats)\n",
    "                #print(labels)\n",
    "                test_loss = F.cross_entropy(logits, labels)\n",
    "                test_loss_list_epoch.append(test_loss.tolist())\n",
    "            mean_test_loss_epoch = statistics.mean(test_loss_list_epoch)\n",
    "            test_loss_list.append(mean_test_loss_epoch)\n",
    "        mean_test_loss.append(statistics.mean(test_loss_list))\n",
    "        sd_test_loss.append(statistics.stdev(test_loss_list))  \n",
    "            \n",
    "        #test_loss_epoch50.loc[i, seed] = test_loss_list[50]\n",
    "\n",
    "        num_correct = 0\n",
    "        num_tests = 0\n",
    "        for batched_graph, labels in test_dataloader:\n",
    "            pred = model(batched_graph, batched_graph.ndata['info'].float())\n",
    "            num_correct += (pred.argmax(1) == labels).sum().item()\n",
    "            num_tests += len(labels)\n",
    "        test_accuracy = num_correct / num_tests\n",
    "        print('hidden layer 1 size:',i, 'Test accuracy:', test_accuracy)\n",
    "        #accuracy.loc[i, seed] = test_accuracy[50]\n",
    "        #accuracy_list[]\n",
    "        \n",
    "  # want mean and SD loss and accuracy for each row (over all random seeds)      \n"
   ]
  },
  {
   "cell_type": "code",
   "execution_count": 17,
   "metadata": {},
   "outputs": [
    {
     "data": {
      "text/plain": [
       "[1, 2, 3, 4, 5, 6, 7, 8, 9]"
      ]
     },
     "execution_count": 17,
     "metadata": {},
     "output_type": "execute_result"
    }
   ],
   "source": []
  },
  {
   "cell_type": "code",
   "execution_count": 60,
   "metadata": {},
   "outputs": [
    {
     "data": {
      "text/plain": [
       "[0.645282194018364,\n",
       " 0.41598760336637497,\n",
       " 0.41448522359132767,\n",
       " 0.3521746024489403,\n",
       " 0.3460733965039253,\n",
       " 0.4190138205885887,\n",
       " 0.4137316420674324,\n",
       " 0.4276607520878315,\n",
       " 0.3469378091394901,\n",
       " 0.3512844443321228,\n",
       " 0.42202650010585785,\n",
       " 0.357352327555418,\n",
       " 0.427444726228714,\n",
       " 0.3829192891716957,\n",
       " 0.3336193710565567,\n",
       " 0.36268263682723045,\n",
       " 0.34306010231375694,\n",
       " 0.3465927727520466,\n",
       " 0.4183403328061104,\n",
       " 0.406993143260479,\n",
       " 0.40233977511525154]"
      ]
     },
     "execution_count": 60,
     "metadata": {},
     "output_type": "execute_result"
    }
   ],
   "source": [
    "test_loss_epoch50"
   ]
  },
  {
   "cell_type": "code",
   "execution_count": 32,
   "metadata": {},
   "outputs": [
    {
     "ename": "ValueError",
     "evalue": "x and y must be the same size",
     "output_type": "error",
     "traceback": [
      "\u001b[0;31m---------------------------------------------------------------------------\u001b[0m",
      "\u001b[0;31mValueError\u001b[0m                                Traceback (most recent call last)",
      "\u001b[0;32m<ipython-input-32-67b960b7768b>\u001b[0m in \u001b[0;36m<module>\u001b[0;34m\u001b[0m\n\u001b[0;32m----> 1\u001b[0;31m \u001b[0mplt\u001b[0m\u001b[0;34m.\u001b[0m\u001b[0mscatter\u001b[0m\u001b[0;34m(\u001b[0m\u001b[0msize_hidden_dim\u001b[0m\u001b[0;34m,\u001b[0m \u001b[0mtest_loss_epoch50\u001b[0m\u001b[0;34m)\u001b[0m\u001b[0;34m\u001b[0m\u001b[0;34m\u001b[0m\u001b[0m\n\u001b[0m\u001b[1;32m      2\u001b[0m \u001b[0mplt\u001b[0m\u001b[0;34m.\u001b[0m\u001b[0mxlabel\u001b[0m\u001b[0;34m(\u001b[0m\u001b[0;34m'# of nodes in hidden layer 1'\u001b[0m\u001b[0;34m)\u001b[0m\u001b[0;34m\u001b[0m\u001b[0;34m\u001b[0m\u001b[0m\n\u001b[1;32m      3\u001b[0m \u001b[0mplt\u001b[0m\u001b[0;34m.\u001b[0m\u001b[0mylabel\u001b[0m\u001b[0;34m(\u001b[0m\u001b[0;34m'test loss after 50 epochs'\u001b[0m\u001b[0;34m)\u001b[0m\u001b[0;34m\u001b[0m\u001b[0;34m\u001b[0m\u001b[0m\n\u001b[1;32m      4\u001b[0m \u001b[0mplt\u001b[0m\u001b[0;34m.\u001b[0m\u001b[0mxticks\u001b[0m\u001b[0;34m(\u001b[0m\u001b[0mnp\u001b[0m\u001b[0;34m.\u001b[0m\u001b[0marange\u001b[0m\u001b[0;34m(\u001b[0m\u001b[0mmin\u001b[0m\u001b[0;34m(\u001b[0m\u001b[0msize_hidden_dim\u001b[0m\u001b[0;34m)\u001b[0m\u001b[0;34m,\u001b[0m \u001b[0mmax\u001b[0m\u001b[0;34m(\u001b[0m\u001b[0msize_hidden_dim\u001b[0m\u001b[0;34m)\u001b[0m\u001b[0;34m+\u001b[0m\u001b[0;36m1\u001b[0m\u001b[0;34m,\u001b[0m \u001b[0;36m1.0\u001b[0m\u001b[0;34m)\u001b[0m\u001b[0;34m)\u001b[0m\u001b[0;34m\u001b[0m\u001b[0;34m\u001b[0m\u001b[0m\n\u001b[1;32m      5\u001b[0m \u001b[0mplt\u001b[0m\u001b[0;34m.\u001b[0m\u001b[0mtitle\u001b[0m\u001b[0;34m(\u001b[0m\u001b[0;34m\"i: size of hidden layer 1, (2, i, 5, 2), learning rate = 0.001, tanh activation functions\"\u001b[0m\u001b[0;34m)\u001b[0m\u001b[0;34m\u001b[0m\u001b[0;34m\u001b[0m\u001b[0m\n",
      "\u001b[0;32m/opt/mambaforge/lib/python3.9/site-packages/matplotlib/pyplot.py\u001b[0m in \u001b[0;36mscatter\u001b[0;34m(x, y, s, c, marker, cmap, norm, vmin, vmax, alpha, linewidths, edgecolors, plotnonfinite, data, **kwargs)\u001b[0m\n\u001b[1;32m   3066\u001b[0m         \u001b[0mvmin\u001b[0m\u001b[0;34m=\u001b[0m\u001b[0;32mNone\u001b[0m\u001b[0;34m,\u001b[0m \u001b[0mvmax\u001b[0m\u001b[0;34m=\u001b[0m\u001b[0;32mNone\u001b[0m\u001b[0;34m,\u001b[0m \u001b[0malpha\u001b[0m\u001b[0;34m=\u001b[0m\u001b[0;32mNone\u001b[0m\u001b[0;34m,\u001b[0m \u001b[0mlinewidths\u001b[0m\u001b[0;34m=\u001b[0m\u001b[0;32mNone\u001b[0m\u001b[0;34m,\u001b[0m \u001b[0;34m*\u001b[0m\u001b[0;34m,\u001b[0m\u001b[0;34m\u001b[0m\u001b[0;34m\u001b[0m\u001b[0m\n\u001b[1;32m   3067\u001b[0m         edgecolors=None, plotnonfinite=False, data=None, **kwargs):\n\u001b[0;32m-> 3068\u001b[0;31m     __ret = gca().scatter(\n\u001b[0m\u001b[1;32m   3069\u001b[0m         \u001b[0mx\u001b[0m\u001b[0;34m,\u001b[0m \u001b[0my\u001b[0m\u001b[0;34m,\u001b[0m \u001b[0ms\u001b[0m\u001b[0;34m=\u001b[0m\u001b[0ms\u001b[0m\u001b[0;34m,\u001b[0m \u001b[0mc\u001b[0m\u001b[0;34m=\u001b[0m\u001b[0mc\u001b[0m\u001b[0;34m,\u001b[0m \u001b[0mmarker\u001b[0m\u001b[0;34m=\u001b[0m\u001b[0mmarker\u001b[0m\u001b[0;34m,\u001b[0m \u001b[0mcmap\u001b[0m\u001b[0;34m=\u001b[0m\u001b[0mcmap\u001b[0m\u001b[0;34m,\u001b[0m \u001b[0mnorm\u001b[0m\u001b[0;34m=\u001b[0m\u001b[0mnorm\u001b[0m\u001b[0;34m,\u001b[0m\u001b[0;34m\u001b[0m\u001b[0;34m\u001b[0m\u001b[0m\n\u001b[1;32m   3070\u001b[0m         \u001b[0mvmin\u001b[0m\u001b[0;34m=\u001b[0m\u001b[0mvmin\u001b[0m\u001b[0;34m,\u001b[0m \u001b[0mvmax\u001b[0m\u001b[0;34m=\u001b[0m\u001b[0mvmax\u001b[0m\u001b[0;34m,\u001b[0m \u001b[0malpha\u001b[0m\u001b[0;34m=\u001b[0m\u001b[0malpha\u001b[0m\u001b[0;34m,\u001b[0m \u001b[0mlinewidths\u001b[0m\u001b[0;34m=\u001b[0m\u001b[0mlinewidths\u001b[0m\u001b[0;34m,\u001b[0m\u001b[0;34m\u001b[0m\u001b[0;34m\u001b[0m\u001b[0m\n",
      "\u001b[0;32m/opt/mambaforge/lib/python3.9/site-packages/matplotlib/__init__.py\u001b[0m in \u001b[0;36minner\u001b[0;34m(ax, data, *args, **kwargs)\u001b[0m\n\u001b[1;32m   1359\u001b[0m     \u001b[0;32mdef\u001b[0m \u001b[0minner\u001b[0m\u001b[0;34m(\u001b[0m\u001b[0max\u001b[0m\u001b[0;34m,\u001b[0m \u001b[0;34m*\u001b[0m\u001b[0margs\u001b[0m\u001b[0;34m,\u001b[0m \u001b[0mdata\u001b[0m\u001b[0;34m=\u001b[0m\u001b[0;32mNone\u001b[0m\u001b[0;34m,\u001b[0m \u001b[0;34m**\u001b[0m\u001b[0mkwargs\u001b[0m\u001b[0;34m)\u001b[0m\u001b[0;34m:\u001b[0m\u001b[0;34m\u001b[0m\u001b[0;34m\u001b[0m\u001b[0m\n\u001b[1;32m   1360\u001b[0m         \u001b[0;32mif\u001b[0m \u001b[0mdata\u001b[0m \u001b[0;32mis\u001b[0m \u001b[0;32mNone\u001b[0m\u001b[0;34m:\u001b[0m\u001b[0;34m\u001b[0m\u001b[0;34m\u001b[0m\u001b[0m\n\u001b[0;32m-> 1361\u001b[0;31m             \u001b[0;32mreturn\u001b[0m \u001b[0mfunc\u001b[0m\u001b[0;34m(\u001b[0m\u001b[0max\u001b[0m\u001b[0;34m,\u001b[0m \u001b[0;34m*\u001b[0m\u001b[0mmap\u001b[0m\u001b[0;34m(\u001b[0m\u001b[0msanitize_sequence\u001b[0m\u001b[0;34m,\u001b[0m \u001b[0margs\u001b[0m\u001b[0;34m)\u001b[0m\u001b[0;34m,\u001b[0m \u001b[0;34m**\u001b[0m\u001b[0mkwargs\u001b[0m\u001b[0;34m)\u001b[0m\u001b[0;34m\u001b[0m\u001b[0;34m\u001b[0m\u001b[0m\n\u001b[0m\u001b[1;32m   1362\u001b[0m \u001b[0;34m\u001b[0m\u001b[0m\n\u001b[1;32m   1363\u001b[0m         \u001b[0mbound\u001b[0m \u001b[0;34m=\u001b[0m \u001b[0mnew_sig\u001b[0m\u001b[0;34m.\u001b[0m\u001b[0mbind\u001b[0m\u001b[0;34m(\u001b[0m\u001b[0max\u001b[0m\u001b[0;34m,\u001b[0m \u001b[0;34m*\u001b[0m\u001b[0margs\u001b[0m\u001b[0;34m,\u001b[0m \u001b[0;34m**\u001b[0m\u001b[0mkwargs\u001b[0m\u001b[0;34m)\u001b[0m\u001b[0;34m\u001b[0m\u001b[0;34m\u001b[0m\u001b[0m\n",
      "\u001b[0;32m/opt/mambaforge/lib/python3.9/site-packages/matplotlib/axes/_axes.py\u001b[0m in \u001b[0;36mscatter\u001b[0;34m(self, x, y, s, c, marker, cmap, norm, vmin, vmax, alpha, linewidths, edgecolors, plotnonfinite, **kwargs)\u001b[0m\n\u001b[1;32m   4496\u001b[0m         \u001b[0my\u001b[0m \u001b[0;34m=\u001b[0m \u001b[0mnp\u001b[0m\u001b[0;34m.\u001b[0m\u001b[0mma\u001b[0m\u001b[0;34m.\u001b[0m\u001b[0mravel\u001b[0m\u001b[0;34m(\u001b[0m\u001b[0my\u001b[0m\u001b[0;34m)\u001b[0m\u001b[0;34m\u001b[0m\u001b[0;34m\u001b[0m\u001b[0m\n\u001b[1;32m   4497\u001b[0m         \u001b[0;32mif\u001b[0m \u001b[0mx\u001b[0m\u001b[0;34m.\u001b[0m\u001b[0msize\u001b[0m \u001b[0;34m!=\u001b[0m \u001b[0my\u001b[0m\u001b[0;34m.\u001b[0m\u001b[0msize\u001b[0m\u001b[0;34m:\u001b[0m\u001b[0;34m\u001b[0m\u001b[0;34m\u001b[0m\u001b[0m\n\u001b[0;32m-> 4498\u001b[0;31m             \u001b[0;32mraise\u001b[0m \u001b[0mValueError\u001b[0m\u001b[0;34m(\u001b[0m\u001b[0;34m\"x and y must be the same size\"\u001b[0m\u001b[0;34m)\u001b[0m\u001b[0;34m\u001b[0m\u001b[0;34m\u001b[0m\u001b[0m\n\u001b[0m\u001b[1;32m   4499\u001b[0m \u001b[0;34m\u001b[0m\u001b[0m\n\u001b[1;32m   4500\u001b[0m         \u001b[0;32mif\u001b[0m \u001b[0ms\u001b[0m \u001b[0;32mis\u001b[0m \u001b[0;32mNone\u001b[0m\u001b[0;34m:\u001b[0m\u001b[0;34m\u001b[0m\u001b[0;34m\u001b[0m\u001b[0m\n",
      "\u001b[0;31mValueError\u001b[0m: x and y must be the same size"
     ]
    },
    {
     "data": {
      "image/png": "[encoded data removed]",
      "text/plain": [
       "<Figure size 432x288 with 1 Axes>"
      ]
     },
     "metadata": {
      "needs_background": "light"
     },
     "output_type": "display_data"
    }
   ],
   "source": [
    "plt.scatter(size_hidden_dim, test_loss_epoch50)\n",
    "plt.xlabel('# of nodes in hidden layer 1')\n",
    "plt.ylabel('test loss after 50 epochs')\n",
    "plt.xticks(np.arange(min(size_hidden_dim), max(size_hidden_dim)+1, 1.0))\n",
    "plt.title(\"i: size of hidden layer 1, (2, i, 5, 2), learning rate = 0.001, tanh activation functions\")\n",
    "plt.show()"
   ]
  },
  {
   "cell_type": "code",
   "execution_count": 78,
   "metadata": {},
   "outputs": [
    {
     "data": {
      "image/png": "[encoded data removed]",
      "text/plain": [
       "<Figure size 432x288 with 1 Axes>"
      ]
     },
     "metadata": {
      "needs_background": "light"
     },
     "output_type": "display_data"
    }
   ],
   "source": [
    "fig = plt.figure()\n",
    "ax = fig.add_subplot(111)\n",
    "\n",
    "ax.scatter(size_hidden_dim1, test_loss_epoch50, label='test_loss_epoch50')\n",
    "ax.scatter(size_hidden_dim1, accuracy_list, label='accuracy')\n",
    "plt.legend(loc='upper right');\n",
    "plt.xlabel('# of nodes in hidden layer 1')\n",
    "plt.ylabel('test loss after 50 epochs')\n",
    "plt.xticks(np.arange(min(size_hidden_dim1), max(size_hidden_dim1)+1, 1.0))\n",
    "plt.title(\"i: size of hidden layer 1, (2, i, 5, 2), learning rate = 0.001, tanh activation functions\")\n",
    "plt.show()"
   ]
  },
  {
   "cell_type": "code",
   "execution_count": 17,
   "metadata": {
    "jupyter": {
     "source_hidden": true
    },
    "tags": []
   },
   "outputs": [],
   "source": [
    "model = Classifier(2, 5, 5, 2)\n",
    "opt = torch.optim.Adam(model.parameters())\n",
    "train_loss_list=[]\n",
    "test_loss_list = []\n",
    "for epoch in range(100):\n",
    "    train_loss_list_epoch = []\n",
    "    test_loss_list_epoch = []\n",
    "    for batched_graph, labels in train_dataloader:\n",
    "        feats = batched_graph.ndata['info']\n",
    "        logits = model(batched_graph, feats)  # logits is non-normalized prob value\n",
    "        train_loss = F.cross_entropy(logits, labels)  # cross entropy is a measure of agreement between label and prediction probability\n",
    "        train_loss_list_epoch.append(train_loss.tolist())\n",
    "        opt.zero_grad()\n",
    "        train_loss.backward()\n",
    "        opt.step()\n",
    "    mean_train_loss = statistics.mean(train_loss_list_epoch)\n",
    "    train_loss_list.append(mean_train_loss)\n",
    "    \n",
    "    for batched_graph, labels in test_dataloader:\n",
    "        feats = batched_graph.ndata['info']\n",
    "        logits = model(batched_graph, feats)\n",
    "        test_loss = F.cross_entropy(logits, labels)\n",
    "        test_loss_list_epoch.append(test_loss.tolist())\n",
    "    mean_test_loss = statistics.mean(test_loss_list_epoch)\n",
    "    test_loss_list.append(mean_test_loss)"
   ]
  },
  {
   "cell_type": "code",
   "execution_count": 68,
   "metadata": {},
   "outputs": [
    {
     "data": {
      "image/png": "[encoded data removed]",
      "text/plain": [
       "<Figure size 432x288 with 1 Axes>"
      ]
     },
     "metadata": {
      "needs_background": "light"
     },
     "output_type": "display_data"
    }
   ],
   "source": [
    "fig = plt.figure()\n",
    "ax = fig.add_subplot(111)\n",
    "\n",
    "epoch_train = list(range(len(train_loss_list)))\n",
    "epoch_test = list(range(len(test_loss_list)))\n",
    "\n",
    "ax.scatter(epoch_train, train_loss_list, label='train_loss')\n",
    "ax.scatter(epoch_test, test_loss_list, label='test_loss')\n",
    "\n",
    "plt.legend(loc='upper right');\n",
    "plt.xlabel('epoch')\n",
    "plt.ylabel('loss')\n",
    "plt.show()"
   ]
  },
  {
   "cell_type": "code",
   "execution_count": null,
   "metadata": {},
   "outputs": [],
   "source": []
  },
  {
   "cell_type": "code",
   "execution_count": null,
   "metadata": {},
   "outputs": [],
   "source": []
  }
 ],
 "metadata": {
  "kernelspec": {
   "display_name": "Python 3",
   "language": "python",
   "name": "python3"
  },
  "language_info": {
   "codemirror_mode": {
    "name": "ipython",
    "version": 3
   },
   "file_extension": ".py",
   "mimetype": "text/x-python",
   "name": "python",
   "nbconvert_exporter": "python",
   "pygments_lexer": "ipython3",
   "version": "3.9.4"
  }
 },
 "nbformat": 4,
 "nbformat_minor": 4
}
